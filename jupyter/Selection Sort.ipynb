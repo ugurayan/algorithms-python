{
 "cells": [
  {
   "cell_type": "markdown",
   "metadata": {},
   "source": [
    "Selection sort is the one of the well known sorting algorithms. This sorting algorithm is an in-place comparison-based algorithm in which the list is divided into two parts, the sorted part at the left from small to large values and the unsorted part at the right end. At first, *the sorted part* is empty array/list and *the unsorted part* is the entire list/array.\n",
    "\n",
    "There are two indicators which represents the *current item* and *smallest current item* in the unsorted list/array. The smallest element is selected from the unsorted array and selected swapped with the left element in unsorted list, and then this item becomes the last item of the sorted array. This process continues moving unsorted array boundary by one element to the right.\n",
    "\n",
    "This algorithm is not suitable for large data sets as its average and worst case complexities are of `Ο(n2)`, where `n` is the number of items in the list/array."
   ]
  },
  {
   "cell_type": "code",
   "execution_count": 6,
   "metadata": {},
   "outputs": [
    {
     "name": "stdout",
     "output_type": "stream",
     "text": [
      "Step (0) :[1, 8, 5, 6, 4, 2]\n",
      "Step (1) :[1, 2, 5, 6, 4, 8]\n",
      "Step (2) :[1, 2, 4, 6, 5, 8]\n",
      "Step (3) :[1, 2, 4, 5, 6, 8]\n",
      "Step (4) :[1, 2, 4, 5, 6, 8]\n",
      "Step (5) :[1, 2, 4, 5, 6, 8]\n",
      "\n",
      "Sorted array\n",
      "[1, 2, 4, 5, 6, 8]\n"
     ]
    }
   ],
   "source": [
    "# Example on demo \n",
    "\n",
    "a = [5, 8, 1, 6 ,4 ,2] \n",
    "  \n",
    "# Starting from first item to all array elements \n",
    "length = len(a)\n",
    "for i in range(length): \n",
    "      \n",
    "    # Find the minimum element in remaining  \n",
    "    # unsorted array \n",
    "    min_item_index = i \n",
    "    for j in range(i+1, length): \n",
    "        if a[min_item_index] > a[j]: \n",
    "            min_item_index = j \n",
    "              \n",
    "    # Swap the minimum item with  \n",
    "    # the first unsorted item         \n",
    "    a[i], a[min_item_index] = a[min_item_index], a[i] \n",
    "    print(\"Step (\"+ str(i) + \") :\" + str(a))\n",
    "\n",
    "# Sorted Array\n",
    "print (\"\\nSorted array\") \n",
    "print(a)"
   ]
  },
  {
   "cell_type": "code",
   "execution_count": 8,
   "metadata": {},
   "outputs": [
    {
     "name": "stdout",
     "output_type": "stream",
     "text": [
      "[375, 703, 169, 78, 123, 417, 723, 989, 201, 301, 119, 508, 988, 559, 915, 632, 857, 447, 952, 422]\n",
      "Step (0) :[78, 703, 169, 375, 123, 417, 723, 989, 201, 301, 119, 508, 988, 559, 915, 632, 857, 447, 952, 422]\n",
      "Step (1) :[78, 119, 169, 375, 123, 417, 723, 989, 201, 301, 703, 508, 988, 559, 915, 632, 857, 447, 952, 422]\n",
      "Step (2) :[78, 119, 123, 375, 169, 417, 723, 989, 201, 301, 703, 508, 988, 559, 915, 632, 857, 447, 952, 422]\n",
      "Step (3) :[78, 119, 123, 169, 375, 417, 723, 989, 201, 301, 703, 508, 988, 559, 915, 632, 857, 447, 952, 422]\n",
      "Step (4) :[78, 119, 123, 169, 201, 417, 723, 989, 375, 301, 703, 508, 988, 559, 915, 632, 857, 447, 952, 422]\n",
      "Step (5) :[78, 119, 123, 169, 201, 301, 723, 989, 375, 417, 703, 508, 988, 559, 915, 632, 857, 447, 952, 422]\n",
      "Step (6) :[78, 119, 123, 169, 201, 301, 375, 989, 723, 417, 703, 508, 988, 559, 915, 632, 857, 447, 952, 422]\n",
      "Step (7) :[78, 119, 123, 169, 201, 301, 375, 417, 723, 989, 703, 508, 988, 559, 915, 632, 857, 447, 952, 422]\n",
      "Step (8) :[78, 119, 123, 169, 201, 301, 375, 417, 422, 989, 703, 508, 988, 559, 915, 632, 857, 447, 952, 723]\n",
      "Step (9) :[78, 119, 123, 169, 201, 301, 375, 417, 422, 447, 703, 508, 988, 559, 915, 632, 857, 989, 952, 723]\n",
      "Step (10) :[78, 119, 123, 169, 201, 301, 375, 417, 422, 447, 508, 703, 988, 559, 915, 632, 857, 989, 952, 723]\n",
      "Step (11) :[78, 119, 123, 169, 201, 301, 375, 417, 422, 447, 508, 559, 988, 703, 915, 632, 857, 989, 952, 723]\n",
      "Step (12) :[78, 119, 123, 169, 201, 301, 375, 417, 422, 447, 508, 559, 632, 703, 915, 988, 857, 989, 952, 723]\n",
      "Step (13) :[78, 119, 123, 169, 201, 301, 375, 417, 422, 447, 508, 559, 632, 703, 915, 988, 857, 989, 952, 723]\n",
      "Step (14) :[78, 119, 123, 169, 201, 301, 375, 417, 422, 447, 508, 559, 632, 703, 723, 988, 857, 989, 952, 915]\n",
      "Step (15) :[78, 119, 123, 169, 201, 301, 375, 417, 422, 447, 508, 559, 632, 703, 723, 857, 988, 989, 952, 915]\n",
      "Step (16) :[78, 119, 123, 169, 201, 301, 375, 417, 422, 447, 508, 559, 632, 703, 723, 857, 915, 989, 952, 988]\n",
      "Step (17) :[78, 119, 123, 169, 201, 301, 375, 417, 422, 447, 508, 559, 632, 703, 723, 857, 915, 952, 989, 988]\n",
      "Step (18) :[78, 119, 123, 169, 201, 301, 375, 417, 422, 447, 508, 559, 632, 703, 723, 857, 915, 952, 988, 989]\n",
      "Step (19) :[78, 119, 123, 169, 201, 301, 375, 417, 422, 447, 508, 559, 632, 703, 723, 857, 915, 952, 988, 989]\n",
      "\n",
      "Sorted array\n",
      "[78, 119, 123, 169, 201, 301, 375, 417, 422, 447, 508, 559, 632, 703, 723, 857, 915, 952, 988, 989]\n"
     ]
    }
   ],
   "source": [
    "# Extend the demo\n",
    "\n",
    "import random\n",
    "\n",
    "a = random.sample(range(0, 1000), 20)\n",
    "print(a)\n",
    "\n",
    "# Starting from first item to all array elements \n",
    "length = len(a)\n",
    "for i in range(length): \n",
    "      \n",
    "    # Find the minimum element in remaining  \n",
    "    # unsorted array \n",
    "    min_item_index = i \n",
    "    for j in range(i+1, length): \n",
    "        if a[min_item_index] > a[j]: \n",
    "            min_item_index = j \n",
    "              \n",
    "    # Swap the minimum item with  \n",
    "    # the first unsorted item         \n",
    "    a[i], a[min_item_index] = a[min_item_index], a[i] \n",
    "    print(\"Step (\"+ str(i) + \") :\" + str(a))\n",
    "\n",
    "# Sorted Array\n",
    "print (\"\\nSorted array\") \n",
    "print(a)"
   ]
  },
  {
   "cell_type": "code",
   "execution_count": null,
   "metadata": {},
   "outputs": [],
   "source": []
  }
 ],
 "metadata": {
  "kernelspec": {
   "display_name": "Python 3",
   "language": "python",
   "name": "python3"
  },
  "language_info": {
   "codemirror_mode": {
    "name": "ipython",
    "version": 3
   },
   "file_extension": ".py",
   "mimetype": "text/x-python",
   "name": "python",
   "nbconvert_exporter": "python",
   "pygments_lexer": "ipython3",
   "version": "3.7.4"
  }
 },
 "nbformat": 4,
 "nbformat_minor": 2
}
