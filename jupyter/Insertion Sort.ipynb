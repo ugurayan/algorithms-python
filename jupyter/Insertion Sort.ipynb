{
 "cells": [
  {
   "cell_type": "markdown",
   "metadata": {},
   "source": [
    "The algorithm that people often use to sort bridge hands is to consider the cards one at a time, inserting each into its proper place among those already considered (keeping them sorted). In a computer implementation, we need to make space to insert the current item by moving larger items one position to the right, before inserting the current item into the vacated position. A\n",
    "\n",
    "As in selection sort, the items to the left of the current index are in sorted order during the sort, but they are not in their final position, as they may have to be moved to make room for smaller items encountered later. The array is, however, fully sorted when the index reaches the right end.\n",
    "\n",
    "Unlike that of selection sort, the running time of insertion sort depends on the initial order of the items in the input. For example, if the array is large and its entries are already in order (or nearly in order), then insertion sort is much, much faster than if the entries are randomly ordered or in reverse order.\n",
    "\n",
    "Insertion sort works well for certain types of nonrandom arrays that often arise in practice, even if they are huge. For example, as just mentioned, consider what happens when you use insertion sort on an array that is already sorted. Each item is immediately determined to be in its proper place in the array, and the total running time is linear.\n",
    "\n",
    "(The running time of selection sort is quadratic for such an array.) The same is true for arrays whose keys are all equal."
   ]
  },
  {
   "cell_type": "code",
   "execution_count": 6,
   "metadata": {},
   "outputs": [
    {
     "name": "stdout",
     "output_type": "stream",
     "text": [
      "Step (1) :[5, 8, 1, 6, 4, 2]\n",
      "Step (2) :[1, 5, 8, 6, 4, 2]\n",
      "Step (3) :[1, 5, 6, 8, 4, 2]\n",
      "Step (4) :[1, 4, 5, 6, 8, 2]\n",
      "Step (5) :[1, 2, 4, 5, 6, 8]\n",
      "\n",
      "Sorted array\n",
      "[1, 2, 4, 5, 6, 8]\n"
     ]
    }
   ],
   "source": [
    "\n",
    "a = [5, 8, 1, 6 ,4 ,2] \n",
    "\n",
    "length = len(a)\n",
    "\n",
    "for i in range(1, length): \n",
    "    current_item = a[i] \n",
    "  \n",
    "    # Move elements of arr[0..i-1], that are \n",
    "    # greater than current_item, to one position ahead \n",
    "    # of their current position \n",
    "    j = i - 1\n",
    "    while j >= 0 and current_item < a[j] : \n",
    "        a[j + 1] = a[j] \n",
    "        j -= 1\n",
    "    a[j + 1] = current_item \n",
    "    print(\"Step (\"+ str(i) + \") :\" + str(a))\n",
    "    \n",
    "    \n",
    "# Sorted Array\n",
    "print (\"\\nSorted array\") \n",
    "print(a)\n",
    "  "
   ]
  },
  {
   "cell_type": "code",
   "execution_count": 7,
   "metadata": {},
   "outputs": [
    {
     "name": "stdout",
     "output_type": "stream",
     "text": [
      "[457, 170, 996, 678, 293, 603, 40, 865, 169, 1, 354, 147, 793, 428, 806, 278, 238, 210, 627, 932]\n",
      "Step (1) :[170, 457, 996, 678, 293, 603, 40, 865, 169, 1, 354, 147, 793, 428, 806, 278, 238, 210, 627, 932]\n",
      "Step (2) :[170, 457, 996, 678, 293, 603, 40, 865, 169, 1, 354, 147, 793, 428, 806, 278, 238, 210, 627, 932]\n",
      "Step (3) :[170, 457, 678, 996, 293, 603, 40, 865, 169, 1, 354, 147, 793, 428, 806, 278, 238, 210, 627, 932]\n",
      "Step (4) :[170, 293, 457, 678, 996, 603, 40, 865, 169, 1, 354, 147, 793, 428, 806, 278, 238, 210, 627, 932]\n",
      "Step (5) :[170, 293, 457, 603, 678, 996, 40, 865, 169, 1, 354, 147, 793, 428, 806, 278, 238, 210, 627, 932]\n",
      "Step (6) :[40, 170, 293, 457, 603, 678, 996, 865, 169, 1, 354, 147, 793, 428, 806, 278, 238, 210, 627, 932]\n",
      "Step (7) :[40, 170, 293, 457, 603, 678, 865, 996, 169, 1, 354, 147, 793, 428, 806, 278, 238, 210, 627, 932]\n",
      "Step (8) :[40, 169, 170, 293, 457, 603, 678, 865, 996, 1, 354, 147, 793, 428, 806, 278, 238, 210, 627, 932]\n",
      "Step (9) :[1, 40, 169, 170, 293, 457, 603, 678, 865, 996, 354, 147, 793, 428, 806, 278, 238, 210, 627, 932]\n",
      "Step (10) :[1, 40, 169, 170, 293, 354, 457, 603, 678, 865, 996, 147, 793, 428, 806, 278, 238, 210, 627, 932]\n",
      "Step (11) :[1, 40, 147, 169, 170, 293, 354, 457, 603, 678, 865, 996, 793, 428, 806, 278, 238, 210, 627, 932]\n",
      "Step (12) :[1, 40, 147, 169, 170, 293, 354, 457, 603, 678, 793, 865, 996, 428, 806, 278, 238, 210, 627, 932]\n",
      "Step (13) :[1, 40, 147, 169, 170, 293, 354, 428, 457, 603, 678, 793, 865, 996, 806, 278, 238, 210, 627, 932]\n",
      "Step (14) :[1, 40, 147, 169, 170, 293, 354, 428, 457, 603, 678, 793, 806, 865, 996, 278, 238, 210, 627, 932]\n",
      "Step (15) :[1, 40, 147, 169, 170, 278, 293, 354, 428, 457, 603, 678, 793, 806, 865, 996, 238, 210, 627, 932]\n",
      "Step (16) :[1, 40, 147, 169, 170, 238, 278, 293, 354, 428, 457, 603, 678, 793, 806, 865, 996, 210, 627, 932]\n",
      "Step (17) :[1, 40, 147, 169, 170, 210, 238, 278, 293, 354, 428, 457, 603, 678, 793, 806, 865, 996, 627, 932]\n",
      "Step (18) :[1, 40, 147, 169, 170, 210, 238, 278, 293, 354, 428, 457, 603, 627, 678, 793, 806, 865, 996, 932]\n",
      "Step (19) :[1, 40, 147, 169, 170, 210, 238, 278, 293, 354, 428, 457, 603, 627, 678, 793, 806, 865, 932, 996]\n",
      "\n",
      "Sorted array\n",
      "[1, 40, 147, 169, 170, 210, 238, 278, 293, 354, 428, 457, 603, 627, 678, 793, 806, 865, 932, 996]\n"
     ]
    }
   ],
   "source": [
    "# Extend the demo\n",
    "\n",
    "import random\n",
    "\n",
    "a = random.sample(range(0, 1000), 20)\n",
    "print(a)\n",
    "\n",
    "length = len(a)\n",
    "\n",
    "for i in range(1, length): \n",
    "    current_item = a[i] \n",
    "  \n",
    "    # Move elements of arr[0..i-1], that are \n",
    "    # greater than current_item, to one position ahead \n",
    "    # of their current position \n",
    "    j = i - 1\n",
    "    while j >= 0 and current_item < a[j] : \n",
    "        a[j + 1] = a[j] \n",
    "        j -= 1\n",
    "    a[j + 1] = current_item \n",
    "    print(\"Step (\"+ str(i) + \") :\" + str(a))\n",
    "    \n",
    "    \n",
    "# Sorted Array\n",
    "print (\"\\nSorted array\") \n",
    "print(a)"
   ]
  },
  {
   "cell_type": "code",
   "execution_count": null,
   "metadata": {},
   "outputs": [],
   "source": []
  }
 ],
 "metadata": {
  "kernelspec": {
   "display_name": "Python 3",
   "language": "python",
   "name": "python3"
  },
  "language_info": {
   "codemirror_mode": {
    "name": "ipython",
    "version": 3
   },
   "file_extension": ".py",
   "mimetype": "text/x-python",
   "name": "python",
   "nbconvert_exporter": "python",
   "pygments_lexer": "ipython3",
   "version": "3.7.4"
  }
 },
 "nbformat": 4,
 "nbformat_minor": 2
}
